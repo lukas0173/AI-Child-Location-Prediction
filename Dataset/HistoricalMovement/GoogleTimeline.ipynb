{
 "cells": [
  {
   "cell_type": "code",
   "execution_count": 1,
   "id": "09d76bcf-e8e4-49bd-aa13-2df44f563685",
   "metadata": {},
   "outputs": [],
   "source": [
    "import pandas as pd\n",
    "import json\n",
    "from datetime import datetime\n",
    "import re"
   ]
  },
  {
   "cell_type": "markdown",
   "id": "34c032f6-38da-4f30-9986-59d9601d3908",
   "metadata": {},
   "source": [
    "# Configurations"
   ]
  },
  {
   "cell_type": "code",
   "execution_count": 2,
   "id": "ac4b7a32-47f8-4c89-b478-adcdd798a9f2",
   "metadata": {},
   "outputs": [],
   "source": [
    "timeline_files = [\n",
    "    'LeHuy.json',\n",
    "    'DinhKhanh.json',\n",
    "    'TuanAnh.json'\n",
    "]\n",
    "\n",
    "# Output file name for the processed data\n",
    "OUTPUT_FILENAME = \"danang_movement_google_timeline.parquet\""
   ]
  },
  {
   "cell_type": "markdown",
   "id": "16f8968d-aad5-4062-80be-d5ffaeeb93e9",
   "metadata": {},
   "source": [
    "# Data Extraction and Processing Logic"
   ]
  },
  {
   "cell_type": "code",
   "execution_count": 3,
   "id": "bc6b6601-c89d-4af6-b066-388faba192e7",
   "metadata": {},
   "outputs": [],
   "source": [
    "def parse_lat_lon(point_str):\n",
    "    \"\"\"Parses 'lat°, lon°' string into two floats.\"\"\"\n",
    "    try:\n",
    "        # Remove the degree symbol and split\n",
    "        parts = point_str.replace('°', '').split(', ')\n",
    "        lat = float(parts[0])\n",
    "        lon = float(parts[1])\n",
    "        return lat, lon\n",
    "    except (ValueError, IndexError, AttributeError) as e:\n",
    "        # Handle cases where point_str is not a string (e.g., None)\n",
    "        # print(f\"Warning: Could not parse point string: '{point_str}'. Error: {e}\")\n",
    "        return None, None\n",
    "\n",
    "def process_timeline_file(filepath, device_id):\n",
    "    \"\"\"Processes a single Google Timeline JSON file and returns a list of records.\"\"\"\n",
    "    print(f\"--- Processing file: {filepath} ---\")\n",
    "    processed_records = []\n",
    "\n",
    "    try:\n",
    "        with open(filepath, 'r', encoding='utf-8') as f:\n",
    "            data = json.load(f)\n",
    "    except FileNotFoundError:\n",
    "        print(f\"ERROR: File not found at {filepath}\")\n",
    "        return []\n",
    "    except json.JSONDecodeError:\n",
    "        print(f\"ERROR: Could not decode JSON from {filepath}. File might be corrupted.\")\n",
    "        return []\n",
    "\n",
    "    if 'semanticSegments' not in data:\n",
    "        print(f\"Warning: 'semanticSegments' key not found in {filepath}. Skipping.\")\n",
    "        return []\n",
    "        \n",
    "    for segment in data['semanticSegments']:\n",
    "        # -- NEW: Extract data from 'visit' segments --\n",
    "        if 'visit' in segment:\n",
    "            visit_segment = segment.get('visit', {})\n",
    "            location_data = visit_segment.get('topCandidate', {}).get('placeLocation', {})\n",
    "            \n",
    "            # Google sometimes provides latLng directly, sometimes in a 'point' sub-object\n",
    "            lat_lng_str = location_data.get('latLng') or location_data.get('point')\n",
    "\n",
    "            if lat_lng_str:\n",
    "                lat, lon = parse_lat_lon(lat_lng_str)\n",
    "                if lat is not None and 'startTime' in segment:\n",
    "                    record = {\n",
    "                        \"DeviceID\": device_id,\n",
    "                        \"TimestampUTC\": segment['startTime'],\n",
    "                        \"Latitude\": lat,\n",
    "                        \"Longitude\": lon,\n",
    "                        \"Description\": f\"google_timeline_visit_start\"\n",
    "                    }\n",
    "                    processed_records.append(record)\n",
    "                    \n",
    "                    # Also add the end time of the visit to capture the duration\n",
    "                    if 'endTime' in segment:\n",
    "                         record_end = {\n",
    "                            \"DeviceID\": device_id,\n",
    "                            \"TimestampUTC\": segment['endTime'],\n",
    "                            \"Latitude\": lat,\n",
    "                            \"Longitude\": lon,\n",
    "                            \"Description\": f\"google_timeline_visit_end\"\n",
    "                        }\n",
    "                         processed_records.append(record_end)\n",
    "\n",
    "\n",
    "        # Extract data from 'activity' segments which represent travel\n",
    "        if 'activity' in segment:\n",
    "            activity_segment = segment.get('activity', {})\n",
    "            \n",
    "            # Start Point\n",
    "            start_location = activity_segment.get('start', {})\n",
    "            start_lat_lng_str = start_location.get('latLng')\n",
    "            if start_lat_lng_str:\n",
    "                start_lat, start_lon = parse_lat_lon(start_lat_lng_str)\n",
    "                if start_lat is not None and 'startTime' in segment:\n",
    "                    record = {\n",
    "                        \"DeviceID\": device_id,\n",
    "                        \"TimestampUTC\": segment['startTime'],\n",
    "                        \"Latitude\": start_lat,\n",
    "                        \"Longitude\": start_lon,\n",
    "                        \"Description\": f\"google_timeline_activity_start\"\n",
    "                    }\n",
    "                    processed_records.append(record)\n",
    "            \n",
    "            # End Point\n",
    "            end_location = activity_segment.get('end', {})\n",
    "            end_lat_lng_str = end_location.get('latLng')\n",
    "            if end_lat_lng_str:\n",
    "                end_lat, end_lon = parse_lat_lon(end_lat_lng_str)\n",
    "                if end_lat is not None and 'endTime' in segment:\n",
    "                    record = {\n",
    "                        \"DeviceID\": device_id,\n",
    "                        \"TimestampUTC\": segment['endTime'],\n",
    "                        \"Latitude\": end_lat,\n",
    "                        \"Longitude\": end_lon,\n",
    "                        \"Description\": f\"google_timeline_activity_end\"\n",
    "                    }\n",
    "                    processed_records.append(record)\n",
    "\n",
    "        # Extract data from 'timelinePath' which contains detailed route points\n",
    "        if 'timelinePath' in segment:\n",
    "            for point_data in segment['timelinePath']:\n",
    "                lat_lng_str = point_data.get('point')\n",
    "                if lat_lng_str:\n",
    "                    lat, lon = parse_lat_lon(lat_lng_str)\n",
    "                    if lat is not None:\n",
    "                        record = {\n",
    "                            \"DeviceID\": device_id,\n",
    "                            \"TimestampUTC\": point_data.get('time'),\n",
    "                            \"Latitude\": lat,\n",
    "                            \"Longitude\": lon,\n",
    "                            \"Description\": \"google_timeline_path\"\n",
    "                        }\n",
    "                        processed_records.append(record)\n",
    "\n",
    "    print(f\"Found and processed {len(processed_records)} location points.\")\n",
    "    return processed_records"
   ]
  },
  {
   "cell_type": "markdown",
   "id": "8c82b0da-7171-4908-b94d-9d185f8f985c",
   "metadata": {},
   "source": [
    "# Main execution"
   ]
  },
  {
   "cell_type": "code",
   "execution_count": 4,
   "id": "01e57322-f342-47eb-82eb-120341dc90c5",
   "metadata": {},
   "outputs": [
    {
     "name": "stdout",
     "output_type": "stream",
     "text": [
      "--- Processing file: LeHuy.json ---\n",
      "Found and processed 3 location points.\n",
      "--- Processing file: DinhKhanh.json ---\n",
      "Found and processed 7870 location points.\n",
      "--- Processing file: TuanAnh.json ---\n",
      "Found and processed 6175 location points.\n"
     ]
    }
   ],
   "source": [
    "all_google_data = []\n",
    "# We'll assign a unique ID for each file to distinguish the users\n",
    "for i, file_path in enumerate(timeline_files):\n",
    "    device_id = f\"google_timeline_user_{i+1}\"\n",
    "    all_google_data.extend(process_timeline_file(file_path, device_id))\n",
    "\n",
    "if not all_google_data:\n",
    "    print(\"\\nNo data was processed. Exiting.\")\n",
    "else:\n",
    "    # Create DataFrame\n",
    "    google_df = pd.DataFrame(all_google_data)"
   ]
  },
  {
   "cell_type": "markdown",
   "id": "4aa05a32-87d7-4697-b4ca-eb84229b6bde",
   "metadata": {},
   "source": [
    "# Data cleaning and standardization"
   ]
  },
  {
   "cell_type": "code",
   "execution_count": 5,
   "id": "c6282725-532a-415a-8165-d20aef24d03c",
   "metadata": {},
   "outputs": [
    {
     "name": "stdout",
     "output_type": "stream",
     "text": [
      "Data standardized. Final DataFrame info:\n",
      "<class 'pandas.core.frame.DataFrame'>\n",
      "Index: 14048 entries, 1 to 14001\n",
      "Data columns (total 10 columns):\n",
      " #   Column              Non-Null Count  Dtype              \n",
      "---  ------              --------------  -----              \n",
      " 0   LocationID          14048 non-null  int64              \n",
      " 1   DeviceID            14048 non-null  object             \n",
      " 2   TimestampUTC        14048 non-null  datetime64[ns, UTC]\n",
      " 3   Latitude            14048 non-null  float64            \n",
      " 4   Longitude           14048 non-null  float64            \n",
      " 5   Confidence          14048 non-null  float64            \n",
      " 6   Description         14048 non-null  object             \n",
      " 7   StatusCode          14048 non-null  int64              \n",
      " 8   DBDatePublishedUTC  0 non-null      object             \n",
      " 9   EncryptedPayloadDB  0 non-null      object             \n",
      "dtypes: datetime64[ns, UTC](1), float64(3), int64(2), object(4)\n",
      "memory usage: 1.2+ MB\n",
      "\n",
      "Sample of processed Google Timeline data:\n",
      "   LocationID                DeviceID              TimestampUTC   Latitude  \\\n",
      "1          -1  google_timeline_user_1 2025-06-14 07:46:58+00:00  16.059516   \n",
      "0          -1  google_timeline_user_1 2025-06-14 07:47:00+00:00  16.057692   \n",
      "2          -1  google_timeline_user_1 2025-06-14 07:57:32+00:00  16.059516   \n",
      "3          -1  google_timeline_user_2 2025-03-16 01:09:42+00:00  15.997455   \n",
      "4          -1  google_timeline_user_2 2025-03-16 10:02:43+00:00  15.997455   \n",
      "\n",
      "    Longitude  Confidence                  Description  StatusCode  \\\n",
      "1  108.116603       100.0  google_timeline_visit_start           0   \n",
      "0  108.103463       100.0         google_timeline_path           0   \n",
      "2  108.116603       100.0    google_timeline_visit_end           0   \n",
      "3  108.146600       100.0  google_timeline_visit_start           0   \n",
      "4  108.146600       100.0    google_timeline_visit_end           0   \n",
      "\n",
      "  DBDatePublishedUTC EncryptedPayloadDB  \n",
      "1               None               None  \n",
      "0               None               None  \n",
      "2               None               None  \n",
      "3               None               None  \n",
      "4               None               None  \n"
     ]
    }
   ],
   "source": [
    "    # Convert TimestampUTC to datetime objects\n",
    "    google_df['TimestampUTC'] = pd.to_datetime(google_df['TimestampUTC'], errors='coerce', utc=True)\n",
    "\n",
    "    # Drop any rows where timestamp conversion failed\n",
    "    google_df.dropna(subset=['TimestampUTC'], inplace=True)\n",
    "    \n",
    "    # Sort by device and time\n",
    "    google_df.sort_values(by=['DeviceID', 'TimestampUTC'], inplace=True)\n",
    "    \n",
    "    # Add placeholder columns to match the original movement data structure\n",
    "    google_df['LocationID'] = -1\n",
    "    google_df['Confidence'] = 100.0 # Google data is generally high confidence\n",
    "    google_df['StatusCode'] = 0\n",
    "    google_df['DBDatePublishedUTC'] = None\n",
    "    google_df['EncryptedPayloadDB'] = None\n",
    "    \n",
    "    # Reorder columns to match the target schema\n",
    "    final_columns = [\n",
    "        \"LocationID\", \"DeviceID\", \"TimestampUTC\", \"Latitude\", \"Longitude\",\n",
    "        \"Confidence\", \"Description\", \"StatusCode\", \"DBDatePublishedUTC\",\n",
    "        \"EncryptedPayloadDB\"\n",
    "    ]\n",
    "    google_df = google_df[final_columns]\n",
    "\n",
    "    print(\"Data standardized. Final DataFrame info:\")\n",
    "    google_df.info()\n",
    "    print(\"\\nSample of processed Google Timeline data:\")\n",
    "    print(google_df.head())"
   ]
  },
  {
   "cell_type": "markdown",
   "id": "ca79ac02-75ee-4b0b-9d18-3cb5bed142e1",
   "metadata": {},
   "source": [
    "# Save Processed Data"
   ]
  },
  {
   "cell_type": "code",
   "execution_count": 6,
   "id": "66850c20-b8cf-450f-b9f8-cc01397572ed",
   "metadata": {},
   "outputs": [
    {
     "name": "stdout",
     "output_type": "stream",
     "text": [
      "\n",
      "--- Step 5: Saving to danang_movement_google_timeline.parquet ---\n",
      "Successfully saved processed Google Timeline data.\n"
     ]
    }
   ],
   "source": [
    "print(f\"\\n--- Step 5: Saving to {OUTPUT_FILENAME} ---\")\n",
    "try:\n",
    "    google_df.to_parquet(OUTPUT_FILENAME, index=False)\n",
    "    print(\"Successfully saved processed Google Timeline data.\")\n",
    "except Exception as e:\n",
    "    print(f\"Error saving data to Parquet: {e}\")"
   ]
  }
 ],
 "metadata": {
  "kernelspec": {
   "display_name": "Python 3 (ipykernel)",
   "language": "python",
   "name": "python3"
  },
  "language_info": {
   "codemirror_mode": {
    "name": "ipython",
    "version": 3
   },
   "file_extension": ".py",
   "mimetype": "text/x-python",
   "name": "python",
   "nbconvert_exporter": "python",
   "pygments_lexer": "ipython3",
   "version": "3.10.17"
  }
 },
 "nbformat": 4,
 "nbformat_minor": 5
}
