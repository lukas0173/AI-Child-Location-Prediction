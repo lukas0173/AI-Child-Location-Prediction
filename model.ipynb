{
 "cells": [
  {
   "cell_type": "code",
   "execution_count": 1,
   "id": "c70487a4-e98c-45e5-8bc8-200e239fc57b",
   "metadata": {},
   "outputs": [
    {
     "name": "stderr",
     "output_type": "stream",
     "text": [
      "2025-06-05 17:08:23.694650: I tensorflow/core/platform/cpu_feature_guard.cc:210] This TensorFlow binary is optimized to use available CPU instructions in performance-critical operations.\n",
      "To enable the following instructions: AVX2 FMA, in other operations, rebuild TensorFlow with the appropriate compiler flags.\n"
     ]
    }
   ],
   "source": [
    "import numpy as np\n",
    "import json\n",
    "import os\n",
    "import tensorflow as tf\n",
    "from tensorflow.keras.models import Sequential\n",
    "from tensorflow.keras.layers import LSTM, Dense, Dropout, Input\n",
    "from tensorflow.keras.utils import to_categorical\n",
    "from tensorflow.keras.callbacks import EarlyStopping\n",
    "import matplotlib.pyplot as plt"
   ]
  },
  {
   "cell_type": "markdown",
   "id": "e1285f85-989c-44f6-8c52-87c559683c56",
   "metadata": {},
   "source": [
    "# Configurations"
   ]
  },
  {
   "cell_type": "code",
   "execution_count": 2,
   "id": "69db6d7f-8442-4599-b109-b211ab24a12b",
   "metadata": {},
   "outputs": [],
   "source": [
    "ai_ready_dir = \"Dataset/ai_ready_data\" # \n",
    "\n",
    "# Check if the directory and files exist\n",
    "if not os.path.isdir(ai_ready_dir):\n",
    "    print(f\"Error: Directory '{ai_ready_dir}' not found\")\n",
    "\n",
    "# File paths\n",
    "X_train_file = os.path.join(ai_ready_dir, \"X_train.npy\")\n",
    "y_train_file = os.path.join(ai_ready_dir, \"y_train.npy\")\n",
    "X_val_file = os.path.join(ai_ready_dir, \"X_val.npy\")\n",
    "y_val_file = os.path.join(ai_ready_dir, \"y_val.npy\")\n",
    "X_test_file = os.path.join(ai_ready_dir, \"X_test.npy\")\n",
    "y_test_file = os.path.join(ai_ready_dir, \"y_test.npy\")\n",
    "grid_map_file = os.path.join(ai_ready_dir, \"grid_id_to_index.json\")\n",
    "feature_cols_file = os.path.join(ai_ready_dir, \"feature_columns.json\") # Though not directly used in model architecture\n",
    "\n",
    "data_loaded_successfully = True"
   ]
  },
  {
   "cell_type": "markdown",
   "id": "ae748175-7680-4fb0-bc90-5312c8f741cc",
   "metadata": {},
   "source": [
    "# Load the preprocessed Data"
   ]
  },
  {
   "cell_type": "code",
   "execution_count": 17,
   "id": "e31305c1-3d46-4698-ba03-55afc775e35c",
   "metadata": {},
   "outputs": [
    {
     "name": "stdout",
     "output_type": "stream",
     "text": [
      "Loading data...\n",
      "Test data loaded.\n",
      "Data loaded successfully.\n",
      "X_train_scaled shape: (4792, 10, 252)\n",
      "y_train shape: (4792,)\n",
      "X_val_scaled shape: (1026, 10, 252)\n",
      "y_val shape: (1026,)\n",
      "X_test_scaled shape: (1028, 10, 252)\n",
      "y_test shape: (1028,)\n",
      "Number of features: 252\n",
      "Sequence length: 10\n",
      "Number of unique grid_ids (classes): 212350\n",
      "Attempting to convert X_train_scaled to float32...\n",
      "X_train_scaled dtype after conversion: float32\n",
      "Attempting to convert X_val_scaled to float32...\n",
      "X_val_scaled dtype after conversion: float32\n",
      "Attempting to convert X_test_scaled to float32...\n",
      "X_test_scaled dtype after conversion: float32\n"
     ]
    }
   ],
   "source": [
    "try:\n",
    "    # Load datasets\n",
    "    print(\"Loading data...\")\n",
    "    X_train_scaled = np.load(X_train_file, allow_pickle=True)\n",
    "    y_train = np.load(y_train_file, allow_pickle=True)\n",
    "    X_val_scaled = np.load(X_val_file, allow_pickle=True)\n",
    "    y_val = np.load(y_val_file, allow_pickle=True)\n",
    "    \n",
    "    # Load test set\n",
    "    X_test_scaled = None\n",
    "    y_test = None\n",
    "    if os.path.exists(X_test_file) and os.path.exists(y_test_file):\n",
    "        X_test_scaled = np.load(X_test_file, allow_pickle=True)\n",
    "        y_test = np.load(y_test_file, allow_pickle=True)\n",
    "        print(\"Test data loaded.\")\n",
    "    else:\n",
    "        print(\"Test data not found, proceeding without it for evaluation.\")\n",
    "\n",
    "    # Load grid_id to index mapping to determine num_classes\n",
    "    with open(grid_map_file, \"r\") as f:\n",
    "        grid_id_to_index = json.load(f)\n",
    "    num_classes = len(grid_id_to_index)\n",
    "\n",
    "    # Load feature columns \n",
    "    with open(feature_cols_file, \"r\") as f:\n",
    "        feature_columns = json.load(f)\n",
    "    \n",
    "    print(\"Data loaded successfully.\")\n",
    "\n",
    "except FileNotFoundError as e:\n",
    "    print(f\"Error loading data files: {e}\")\n",
    "    print(\"Please ensure all .npy and .json files are in the 'ai_ready_data' directory.\")\n",
    "    data_loaded_successfully = False\n",
    "except Exception as e:\n",
    "    print(f\"An unexpected error occurred during data loading: {e}\")\n",
    "    data_loaded_successfully = False\n",
    "\n",
    "if data_loaded_successfully:\n",
    "    print(f\"X_train_scaled shape: {X_train_scaled.shape}\")\n",
    "    print(f\"y_train shape: {y_train.shape}\")\n",
    "    print(f\"X_val_scaled shape: {X_val_scaled.shape}\")\n",
    "    print(f\"y_val shape: {y_val.shape}\")\n",
    "    if X_test_scaled is not None:\n",
    "        print(f\"X_test_scaled shape: {X_test_scaled.shape}\")\n",
    "        print(f\"y_test shape: {y_test.shape}\")\n",
    "    print(f\"Number of features: {X_train_scaled.shape[2]}\")\n",
    "    print(f\"Sequence length: {X_train_scaled.shape[1]}\")\n",
    "    print(f\"Number of unique grid_ids (classes): {num_classes}\")\n",
    "    # Ensure input data is float32\n",
    "    if X_train_scaled.dtype == 'object':\n",
    "        print(\"Attempting to convert X_train_scaled to float32...\")\n",
    "        try:\n",
    "            X_train_scaled = X_train_scaled.astype(np.float32)\n",
    "            print(f\"X_train_scaled dtype after conversion: {X_train_scaled.dtype}\")\n",
    "        except ValueError as ve:\n",
    "            print(f\"ValueError during X_train_scaled conversion: {ve}\")\n",
    "            print(\"This often means non-numeric strings are present. Please check data preparation.\")\n",
    "            data_loaded_successfully = False # Halt further processing\n",
    "    if X_val_scaled.dtype == 'object':\n",
    "        print(\"Attempting to convert X_val_scaled to float32...\")\n",
    "        try:\n",
    "            X_val_scaled = X_val_scaled.astype(np.float32)\n",
    "            print(f\"X_val_scaled dtype after conversion: {X_val_scaled.dtype}\")\n",
    "        except ValueError as ve:\n",
    "            print(f\"ValueError during X_val_scaled conversion: {ve}\")\n",
    "            data_loaded_successfully = False # Halt further processing\n",
    "            \n",
    "    if X_test_scaled is not None and X_test_scaled.dtype == 'object':\n",
    "        print(\"Attempting to convert X_test_scaled to float32...\")\n",
    "        try:\n",
    "            X_test_scaled = X_test_scaled.astype(np.float32)\n",
    "            print(f\"X_test_scaled dtype after conversion: {X_test_scaled.dtype}\")\n",
    "        except ValueError as ve:\n",
    "            print(f\"ValueError during X_test_scaled conversion: {ve}\")\n",
    "            # data_loaded_successfully = False # Potentially halt if test is crucial now"
   ]
  },
  {
   "cell_type": "markdown",
   "id": "82056192-0be4-4ef5-83a3-abd2b6a0ee5e",
   "metadata": {},
   "source": [
    "# Data Preprocessing for LSTM"
   ]
  },
  {
   "cell_type": "code",
   "execution_count": 18,
   "id": "b528807d-2d56-4b5a-8383-ad440772e494",
   "metadata": {},
   "outputs": [
    {
     "name": "stdout",
     "output_type": "stream",
     "text": [
      "y_train_encoded shape: (4792, 212350)\n",
      "y_val_encoded shape: (1026, 212350)\n",
      "y_test_encoded shape: (1028, 212350)\n"
     ]
    }
   ],
   "source": [
    "# Target variable (y) needs to be one-hot encoded for categorical_crossentropy\n",
    "y_train_encoded = to_categorical(y_train, num_classes=num_classes)\n",
    "y_val_encoded = to_categorical(y_val, num_classes=num_classes)\n",
    "if y_test is not None:\n",
    "    y_test_encoded = to_categorical(y_test, num_classes=num_classes)\n",
    "\n",
    "print(f\"y_train_encoded shape: {y_train_encoded.shape}\")\n",
    "print(f\"y_val_encoded shape: {y_val_encoded.shape}\")\n",
    "if y_test is not None:\n",
    "    print(f\"y_test_encoded shape: {y_test_encoded.shape}\")\n",
    "\n",
    "# Define sequence_length and num_features from the loaded data\n",
    "sequence_length = X_train_scaled.shape[1]\n",
    "num_features = X_train_scaled.shape[2]"
   ]
  },
  {
   "cell_type": "markdown",
   "id": "8ced1362-e497-44a9-845b-eb6fc3fdb39c",
   "metadata": {},
   "source": [
    "# Define Model Archtecture"
   ]
  },
  {
   "cell_type": "code",
   "execution_count": 19,
   "id": "f948e3be-2f5c-4034-a7c3-6fa989bfac5c",
   "metadata": {},
   "outputs": [
    {
     "name": "stderr",
     "output_type": "stream",
     "text": [
      "2025-06-05 17:25:29.517981: W external/local_xla/xla/tsl/framework/cpu_allocator_impl.cc:83] Allocation of 108723200 exceeds 10% of free system memory.\n",
      "2025-06-05 17:25:29.541729: W external/local_xla/xla/tsl/framework/cpu_allocator_impl.cc:83] Allocation of 108723200 exceeds 10% of free system memory.\n"
     ]
    }
   ],
   "source": [
    "model = Sequential()\n",
    "\n",
    "# Input layer\n",
    "model.add(Input(shape=(sequence_length, num_features)))\n",
    "\n",
    "# LSTM layer 1\n",
    "model.add(LSTM(128, return_sequences=False)) # Changed to False as it's the only LSTM layer for now\n",
    "model.add(Dropout(0.3))\n",
    "\n",
    "# Dense hidden layer\n",
    "model.add(Dense(128, activation='relu'))\n",
    "model.add(Dropout(0.3))\n",
    "\n",
    "# Output layer\n",
    "model.add(Dense(num_classes, activation='softmax'))"
   ]
  },
  {
   "cell_type": "markdown",
   "id": "49283b14-0499-40ed-bb0a-11ef237d0fde",
   "metadata": {},
   "source": [
    "# Model compilation"
   ]
  },
  {
   "cell_type": "code",
   "execution_count": 20,
   "id": "3e65b0a2-fae7-4f01-bb8b-0f5ddbe57f9d",
   "metadata": {},
   "outputs": [
    {
     "data": {
      "text/html": [
       "<pre style=\"white-space:pre;overflow-x:auto;line-height:normal;font-family:Menlo,'DejaVu Sans Mono',consolas,'Courier New',monospace\"><span style=\"font-weight: bold\">Model: \"sequential_1\"</span>\n",
       "</pre>\n"
      ],
      "text/plain": [
       "\u001b[1mModel: \"sequential_1\"\u001b[0m\n"
      ]
     },
     "metadata": {},
     "output_type": "display_data"
    },
    {
     "data": {
      "text/html": [
       "<pre style=\"white-space:pre;overflow-x:auto;line-height:normal;font-family:Menlo,'DejaVu Sans Mono',consolas,'Courier New',monospace\">┏━━━━━━━━━━━━━━━━━━━━━━━━━━━━━━━━━┳━━━━━━━━━━━━━━━━━━━━━━━━┳━━━━━━━━━━━━━━━┓\n",
       "┃<span style=\"font-weight: bold\"> Layer (type)                    </span>┃<span style=\"font-weight: bold\"> Output Shape           </span>┃<span style=\"font-weight: bold\">       Param # </span>┃\n",
       "┡━━━━━━━━━━━━━━━━━━━━━━━━━━━━━━━━━╇━━━━━━━━━━━━━━━━━━━━━━━━╇━━━━━━━━━━━━━━━┩\n",
       "│ lstm_1 (<span style=\"color: #0087ff; text-decoration-color: #0087ff\">LSTM</span>)                   │ (<span style=\"color: #00d7ff; text-decoration-color: #00d7ff\">None</span>, <span style=\"color: #00af00; text-decoration-color: #00af00\">128</span>)            │       <span style=\"color: #00af00; text-decoration-color: #00af00\">195,072</span> │\n",
       "├─────────────────────────────────┼────────────────────────┼───────────────┤\n",
       "│ dropout_2 (<span style=\"color: #0087ff; text-decoration-color: #0087ff\">Dropout</span>)             │ (<span style=\"color: #00d7ff; text-decoration-color: #00d7ff\">None</span>, <span style=\"color: #00af00; text-decoration-color: #00af00\">128</span>)            │             <span style=\"color: #00af00; text-decoration-color: #00af00\">0</span> │\n",
       "├─────────────────────────────────┼────────────────────────┼───────────────┤\n",
       "│ dense_2 (<span style=\"color: #0087ff; text-decoration-color: #0087ff\">Dense</span>)                 │ (<span style=\"color: #00d7ff; text-decoration-color: #00d7ff\">None</span>, <span style=\"color: #00af00; text-decoration-color: #00af00\">128</span>)            │        <span style=\"color: #00af00; text-decoration-color: #00af00\">16,512</span> │\n",
       "├─────────────────────────────────┼────────────────────────┼───────────────┤\n",
       "│ dropout_3 (<span style=\"color: #0087ff; text-decoration-color: #0087ff\">Dropout</span>)             │ (<span style=\"color: #00d7ff; text-decoration-color: #00d7ff\">None</span>, <span style=\"color: #00af00; text-decoration-color: #00af00\">128</span>)            │             <span style=\"color: #00af00; text-decoration-color: #00af00\">0</span> │\n",
       "├─────────────────────────────────┼────────────────────────┼───────────────┤\n",
       "│ dense_3 (<span style=\"color: #0087ff; text-decoration-color: #0087ff\">Dense</span>)                 │ (<span style=\"color: #00d7ff; text-decoration-color: #00d7ff\">None</span>, <span style=\"color: #00af00; text-decoration-color: #00af00\">212350</span>)         │    <span style=\"color: #00af00; text-decoration-color: #00af00\">27,393,150</span> │\n",
       "└─────────────────────────────────┴────────────────────────┴───────────────┘\n",
       "</pre>\n"
      ],
      "text/plain": [
       "┏━━━━━━━━━━━━━━━━━━━━━━━━━━━━━━━━━┳━━━━━━━━━━━━━━━━━━━━━━━━┳━━━━━━━━━━━━━━━┓\n",
       "┃\u001b[1m \u001b[0m\u001b[1mLayer (type)                   \u001b[0m\u001b[1m \u001b[0m┃\u001b[1m \u001b[0m\u001b[1mOutput Shape          \u001b[0m\u001b[1m \u001b[0m┃\u001b[1m \u001b[0m\u001b[1m      Param #\u001b[0m\u001b[1m \u001b[0m┃\n",
       "┡━━━━━━━━━━━━━━━━━━━━━━━━━━━━━━━━━╇━━━━━━━━━━━━━━━━━━━━━━━━╇━━━━━━━━━━━━━━━┩\n",
       "│ lstm_1 (\u001b[38;5;33mLSTM\u001b[0m)                   │ (\u001b[38;5;45mNone\u001b[0m, \u001b[38;5;34m128\u001b[0m)            │       \u001b[38;5;34m195,072\u001b[0m │\n",
       "├─────────────────────────────────┼────────────────────────┼───────────────┤\n",
       "│ dropout_2 (\u001b[38;5;33mDropout\u001b[0m)             │ (\u001b[38;5;45mNone\u001b[0m, \u001b[38;5;34m128\u001b[0m)            │             \u001b[38;5;34m0\u001b[0m │\n",
       "├─────────────────────────────────┼────────────────────────┼───────────────┤\n",
       "│ dense_2 (\u001b[38;5;33mDense\u001b[0m)                 │ (\u001b[38;5;45mNone\u001b[0m, \u001b[38;5;34m128\u001b[0m)            │        \u001b[38;5;34m16,512\u001b[0m │\n",
       "├─────────────────────────────────┼────────────────────────┼───────────────┤\n",
       "│ dropout_3 (\u001b[38;5;33mDropout\u001b[0m)             │ (\u001b[38;5;45mNone\u001b[0m, \u001b[38;5;34m128\u001b[0m)            │             \u001b[38;5;34m0\u001b[0m │\n",
       "├─────────────────────────────────┼────────────────────────┼───────────────┤\n",
       "│ dense_3 (\u001b[38;5;33mDense\u001b[0m)                 │ (\u001b[38;5;45mNone\u001b[0m, \u001b[38;5;34m212350\u001b[0m)         │    \u001b[38;5;34m27,393,150\u001b[0m │\n",
       "└─────────────────────────────────┴────────────────────────┴───────────────┘\n"
      ]
     },
     "metadata": {},
     "output_type": "display_data"
    },
    {
     "data": {
      "text/html": [
       "<pre style=\"white-space:pre;overflow-x:auto;line-height:normal;font-family:Menlo,'DejaVu Sans Mono',consolas,'Courier New',monospace\"><span style=\"font-weight: bold\"> Total params: </span><span style=\"color: #00af00; text-decoration-color: #00af00\">27,604,734</span> (105.30 MB)\n",
       "</pre>\n"
      ],
      "text/plain": [
       "\u001b[1m Total params: \u001b[0m\u001b[38;5;34m27,604,734\u001b[0m (105.30 MB)\n"
      ]
     },
     "metadata": {},
     "output_type": "display_data"
    },
    {
     "data": {
      "text/html": [
       "<pre style=\"white-space:pre;overflow-x:auto;line-height:normal;font-family:Menlo,'DejaVu Sans Mono',consolas,'Courier New',monospace\"><span style=\"font-weight: bold\"> Trainable params: </span><span style=\"color: #00af00; text-decoration-color: #00af00\">27,604,734</span> (105.30 MB)\n",
       "</pre>\n"
      ],
      "text/plain": [
       "\u001b[1m Trainable params: \u001b[0m\u001b[38;5;34m27,604,734\u001b[0m (105.30 MB)\n"
      ]
     },
     "metadata": {},
     "output_type": "display_data"
    },
    {
     "data": {
      "text/html": [
       "<pre style=\"white-space:pre;overflow-x:auto;line-height:normal;font-family:Menlo,'DejaVu Sans Mono',consolas,'Courier New',monospace\"><span style=\"font-weight: bold\"> Non-trainable params: </span><span style=\"color: #00af00; text-decoration-color: #00af00\">0</span> (0.00 B)\n",
       "</pre>\n"
      ],
      "text/plain": [
       "\u001b[1m Non-trainable params: \u001b[0m\u001b[38;5;34m0\u001b[0m (0.00 B)\n"
      ]
     },
     "metadata": {},
     "output_type": "display_data"
    }
   ],
   "source": [
    "# Using Adam optimizer and categorical_crossentropy for multi-class classification\n",
    "model.compile(optimizer='adam', loss='categorical_crossentropy', metrics=['accuracy'])\n",
    "\n",
    "model.summary()"
   ]
  },
  {
   "cell_type": "markdown",
   "id": "61dbc621-e761-4633-8d25-ddd8224e5899",
   "metadata": {},
   "source": [
    "# Train the Model"
   ]
  },
  {
   "cell_type": "code",
   "execution_count": 21,
   "id": "39cfa646-4fb4-4de3-9aa1-7256b8f11183",
   "metadata": {},
   "outputs": [
    {
     "name": "stdout",
     "output_type": "stream",
     "text": [
      "Epoch 1/20\n",
      "\u001b[1m75/75\u001b[0m \u001b[32m━━━━━━━━━━━━━━━━━━━━\u001b[0m\u001b[37m\u001b[0m \u001b[1m51s\u001b[0m 550ms/step - accuracy: 0.6445 - loss: 7.5704 - val_accuracy: 0.3216 - val_loss: 19.8444\n",
      "Epoch 2/20\n",
      "\u001b[1m75/75\u001b[0m \u001b[32m━━━━━━━━━━━━━━━━━━━━\u001b[0m\u001b[37m\u001b[0m \u001b[1m33s\u001b[0m 441ms/step - accuracy: 0.7146 - loss: 1.0087 - val_accuracy: 0.3216 - val_loss: 18.5631\n",
      "Epoch 3/20\n",
      "\u001b[1m75/75\u001b[0m \u001b[32m━━━━━━━━━━━━━━━━━━━━\u001b[0m\u001b[37m\u001b[0m \u001b[1m33s\u001b[0m 441ms/step - accuracy: 0.7135 - loss: 1.0078 - val_accuracy: 0.3216 - val_loss: 17.3784\n",
      "Epoch 4/20\n",
      "\u001b[1m75/75\u001b[0m \u001b[32m━━━━━━━━━━━━━━━━━━━━\u001b[0m\u001b[37m\u001b[0m \u001b[1m33s\u001b[0m 439ms/step - accuracy: 0.7226 - loss: 0.9631 - val_accuracy: 0.3216 - val_loss: 16.0895\n",
      "Epoch 5/20\n",
      "\u001b[1m75/75\u001b[0m \u001b[32m━━━━━━━━━━━━━━━━━━━━\u001b[0m\u001b[37m\u001b[0m \u001b[1m33s\u001b[0m 437ms/step - accuracy: 0.7232 - loss: 0.9310 - val_accuracy: 0.3216 - val_loss: 14.1198\n",
      "Epoch 6/20\n",
      "\u001b[1m75/75\u001b[0m \u001b[32m━━━━━━━━━━━━━━━━━━━━\u001b[0m\u001b[37m\u001b[0m \u001b[1m33s\u001b[0m 437ms/step - accuracy: 0.7459 - loss: 0.7500 - val_accuracy: 0.3197 - val_loss: 13.1485\n",
      "Epoch 7/20\n",
      "\u001b[1m75/75\u001b[0m \u001b[32m━━━━━━━━━━━━━━━━━━━━\u001b[0m\u001b[37m\u001b[0m \u001b[1m33s\u001b[0m 440ms/step - accuracy: 0.8607 - loss: 0.4644 - val_accuracy: 0.3177 - val_loss: 12.9274\n",
      "Epoch 8/20\n",
      "\u001b[1m75/75\u001b[0m \u001b[32m━━━━━━━━━━━━━━━━━━━━\u001b[0m\u001b[37m\u001b[0m \u001b[1m33s\u001b[0m 437ms/step - accuracy: 0.8680 - loss: 0.3897 - val_accuracy: 0.3207 - val_loss: 13.5133\n",
      "Epoch 9/20\n",
      "\u001b[1m75/75\u001b[0m \u001b[32m━━━━━━━━━━━━━━━━━━━━\u001b[0m\u001b[37m\u001b[0m \u001b[1m33s\u001b[0m 437ms/step - accuracy: 0.8723 - loss: 0.3784 - val_accuracy: 0.3197 - val_loss: 13.3337\n",
      "Epoch 10/20\n",
      "\u001b[1m75/75\u001b[0m \u001b[32m━━━━━━━━━━━━━━━━━━━━\u001b[0m\u001b[37m\u001b[0m \u001b[1m33s\u001b[0m 438ms/step - accuracy: 0.8810 - loss: 0.3490 - val_accuracy: 0.3187 - val_loss: 13.1937\n",
      "Epoch 11/20\n",
      "\u001b[1m75/75\u001b[0m \u001b[32m━━━━━━━━━━━━━━━━━━━━\u001b[0m\u001b[37m\u001b[0m \u001b[1m33s\u001b[0m 438ms/step - accuracy: 0.8921 - loss: 0.3107 - val_accuracy: 0.3138 - val_loss: 12.9951\n",
      "Epoch 12/20\n",
      "\u001b[1m75/75\u001b[0m \u001b[32m━━━━━━━━━━━━━━━━━━━━\u001b[0m\u001b[37m\u001b[0m \u001b[1m33s\u001b[0m 439ms/step - accuracy: 0.8961 - loss: 0.2958 - val_accuracy: 0.3148 - val_loss: 13.1257\n",
      "\n",
      "Plotting training history...\n",
      "Training history plot saved to training_history.png\n"
     ]
    },
    {
     "data": {
      "image/png": "[encoded data removed]",
      "text/plain": [
       "<Figure size 1200x400 with 2 Axes>"
      ]
     },
     "metadata": {},
     "output_type": "display_data"
    }
   ],
   "source": [
    "# Using a modest number of epochs and batch_size as a starting point.\n",
    "# Early stopping can be useful to prevent overfitting and stop training when validation loss stops improving.\n",
    "early_stopping = EarlyStopping(monitor='val_loss', patience=5, restore_best_weights=True)\n",
    "\n",
    "history = model.fit(\n",
    "    X_train_scaled, y_train_encoded,\n",
    "    epochs=20, # Adjust as needed; may require more for convergence\n",
    "    batch_size=64, # Adjust based on memory and dataset size\n",
    "    validation_data=(X_val_scaled, y_val_encoded),\n",
    "    callbacks=[early_stopping]\n",
    ")\n",
    "\n",
    "# Plot training history (loss and accuracy)\n",
    "print(\"\\nPlotting training history...\")\n",
    "plt.figure(figsize=(12, 4))\n",
    "\n",
    "plt.subplot(1, 2, 1)\n",
    "plt.plot(history.history['loss'], label='Train Loss')\n",
    "plt.plot(history.history['val_loss'], label='Validation Loss')\n",
    "plt.title('Model Loss')\n",
    "plt.xlabel('Epoch')\n",
    "plt.ylabel('Loss')\n",
    "plt.legend()\n",
    "\n",
    "plt.subplot(1, 2, 2)\n",
    "plt.plot(history.history['accuracy'], label='Train Accuracy')\n",
    "plt.plot(history.history['val_accuracy'], label='Validation Accuracy')\n",
    "plt.title('Model Accuracy')\n",
    "plt.xlabel('Epoch')\n",
    "plt.ylabel('Accuracy')\n",
    "plt.legend()\n",
    "\n",
    "plt.tight_layout()\n",
    "# Saving the plot to a file\n",
    "plot_filename = \"training_history.png\"\n",
    "plt.savefig(plot_filename)\n",
    "print(f\"Training history plot saved to {plot_filename}\")\n",
    "# plt.show() # Use this if running in an environment that displays plots directly"
   ]
  },
  {
   "cell_type": "markdown",
   "id": "282c6808-2a26-49c3-9e39-7d7a7558c4b8",
   "metadata": {},
   "source": [
    "# Evaluation"
   ]
  },
  {
   "cell_type": "code",
   "execution_count": 6,
   "id": "45ca0506-d963-4b5c-9e8c-925e616a635d",
   "metadata": {},
   "outputs": [],
   "source": [
    "def evaluate_model(model, X_test, y_test, num_classes):\n",
    "    \"\"\"Evaluates the trained model on the test set.\"\"\"\n",
    "    if X_test.size == 0 or y_test.size == 0:\n",
    "        print(\"No test data to evaluate.\")\n",
    "        return\n",
    "\n",
    "    print(\"Evaluating model on test data...\")\n",
    "    loss, accuracy = model.evaluate(X_test, y_test, verbose=0)\n",
    "    print(f\"Test Loss: {loss:.4f}\")\n",
    "    print(f\"Test Accuracy: {accuracy:.4f}\")\n",
    "\n",
    "    # Classification report and confusion matrix can be very large for many classes\n",
    "    if num_classes <= 50:  # Arbitrary threshold to avoid excessive output\n",
    "        try:\n",
    "            y_pred_probs = model.predict(X_test)\n",
    "            y_pred_classes = np.argmax(y_pred_probs, axis=1)\n",
    "            print(\"\\nClassification Report:\")\n",
    "            print(classification_report(y_test, y_pred_classes, zero_division=0))\n",
    "            # print(\"\\nConfusion Matrix (sample):\") # Full matrix too large\n",
    "            # print(confusion_matrix(y_test, y_pred_classes)) # Might be too large to print meaningfully\n",
    "        except Exception as e:\n",
    "            print(f\"Could not generate classification report/confusion matrix: {e}\")\n",
    "    else:\n",
    "        print(\n",
    "            f\"Skipping classification report due to large number of classes ({num_classes}).\"\n",
    "        )\n",
    "        print(\n",
    "            \"Consider implementing Top-N accuracy or other relevant metrics for high-cardinality classification.\"\n",
    "        )"
   ]
  },
  {
   "cell_type": "markdown",
   "id": "59e5f19c-cba1-4245-bbcc-44d64244853a",
   "metadata": {},
   "source": [
    "# Plot the training history"
   ]
  },
  {
   "cell_type": "code",
   "execution_count": 7,
   "id": "4a2fd770-a72c-4493-9f19-7d0b7d52bb6f",
   "metadata": {},
   "outputs": [],
   "source": [
    "def plot_history(history):\n",
    "    \"\"\"Plots training and validation loss and accuracy.\"\"\"\n",
    "    if history is None:\n",
    "        print(\"No training history to plot.\")\n",
    "        return\n",
    "\n",
    "    plt.figure(figsize=(12, 4))\n",
    "\n",
    "    # Plot Loss\n",
    "    plt.subplot(1, 2, 1)\n",
    "    plt.plot(history.history[\"loss\"], label=\"Train Loss\")\n",
    "    if \"val_loss\" in history.history:\n",
    "        plt.plot(history.history[\"val_loss\"], label=\"Validation Loss\")\n",
    "    plt.title(\"Model Loss\")\n",
    "    plt.ylabel(\"Loss\")\n",
    "    plt.xlabel(\"Epoch\")\n",
    "    plt.legend(loc=\"upper right\")\n",
    "\n",
    "    # Plot Accuracy\n",
    "    plt.subplot(1, 2, 2)\n",
    "    plt.plot(history.history[\"accuracy\"], label=\"Train Accuracy\")\n",
    "    if \"val_accuracy\" in history.history:\n",
    "        plt.plot(history.history[\"val_accuracy\"], label=\"Validation Accuracy\")\n",
    "    plt.title(\"Model Accuracy\")\n",
    "    plt.ylabel(\"Accuracy\")\n",
    "    plt.xlabel(\"Epoch\")\n",
    "    plt.legend(loc=\"lower right\")\n",
    "\n",
    "    plt.tight_layout()\n",
    "    plt.savefig(\"training_history.png\")\n",
    "    print(\"Training history plot saved as training_history.png\")\n",
    "    # plt.show() # Uncomment if running in an environment that supports interactive plots"
   ]
  },
  {
   "cell_type": "markdown",
   "id": "2d03d249-dadd-474c-90ea-8ab3aff2fd2b",
   "metadata": {},
   "source": [
    "# Save Model in ONNX format"
   ]
  },
  {
   "cell_type": "code",
   "execution_count": 8,
   "id": "0b84ad94-bd8e-40fd-b226-bd49ca647d21",
   "metadata": {},
   "outputs": [],
   "source": [
    "def save_model_onnx(keras_model_path, onnx_model_path, sequence_length, num_features):\n",
    "    \"\"\"Converts and saves the Keras model to ONNX format.\"\"\"\n",
    "    try:\n",
    "        import tf2onnx\n",
    "        import tensorflow as tf  # Ensure tf is available for tf.keras.models.load_model\n",
    "\n",
    "        print(f\"Loading Keras model from {keras_model_path} for ONNX conversion...\")\n",
    "        model = tf.keras.models.load_model(\n",
    "            keras_model_path\n",
    "        )  # Load the best saved Keras model\n",
    "\n",
    "        # Define the input signature for the ONNX model\n",
    "        # Batch size is dynamic (None), sequence length and num_features are fixed.\n",
    "        spec = (\n",
    "            tf.TensorSpec(\n",
    "                (None, sequence_length, num_features), tf.float32, name=\"input\"\n",
    "            ),\n",
    "        )\n",
    "\n",
    "        print(f\"Converting Keras model to ONNX format (saving to {onnx_model_path})...\")\n",
    "        model_proto, _ = tf2onnx.convert.from_keras(\n",
    "            model, input_signature=spec, opset=13\n",
    "        )  # opset can be adjusted\n",
    "\n",
    "        with open(onnx_model_path, \"wb\") as f:\n",
    "            f.write(model_proto.SerializeToString())\n",
    "        print(f\"Model successfully converted and saved to {onnx_model_path}\")\n",
    "\n",
    "    except ImportError:\n",
    "        print(\"tf2onnx library not found. Skipping ONNX conversion.\")\n",
    "        print(\"To install: pip install tf2onnx\")\n",
    "    except Exception as e:\n",
    "        print(f\"An error occurred during ONNX conversion: {e}\")"
   ]
  },
  {
   "cell_type": "markdown",
   "id": "719ab234-4bce-40a7-b3ed-d8bf6cd3dc32",
   "metadata": {},
   "source": [
    "# The main execution segment"
   ]
  },
  {
   "cell_type": "code",
   "execution_count": 9,
   "id": "31f03b80-8f4f-4dae-a86c-a8530cebc5fd",
   "metadata": {},
   "outputs": [
    {
     "ename": "NameError",
     "evalue": "name 'load_data' is not defined",
     "output_type": "error",
     "traceback": [
      "\u001b[0;31m---------------------------------------------------------------------------\u001b[0m",
      "\u001b[0;31mNameError\u001b[0m                                 Traceback (most recent call last)",
      "Cell \u001b[0;32mIn[9], line 11\u001b[0m\n\u001b[1;32m      1\u001b[0m \u001b[38;5;28;01mif\u001b[39;00m \u001b[38;5;18m__name__\u001b[39m \u001b[38;5;241m==\u001b[39m \u001b[38;5;124m\"\u001b[39m\u001b[38;5;124m__main__\u001b[39m\u001b[38;5;124m\"\u001b[39m:\n\u001b[1;32m      2\u001b[0m     \u001b[38;5;66;03m# Load data\u001b[39;00m\n\u001b[1;32m      3\u001b[0m     (\n\u001b[1;32m      4\u001b[0m         X_train_scaled,\n\u001b[1;32m      5\u001b[0m         y_train,\n\u001b[1;32m      6\u001b[0m         X_val_scaled,\n\u001b[1;32m      7\u001b[0m         y_val,\n\u001b[1;32m      8\u001b[0m         X_test_scaled,\n\u001b[1;32m      9\u001b[0m         y_test,\n\u001b[1;32m     10\u001b[0m         grid_id_to_idx,\n\u001b[0;32m---> 11\u001b[0m     ) \u001b[38;5;241m=\u001b[39m \u001b[43mload_data\u001b[49m(AI_READY_DATA_DIR)\n\u001b[1;32m     13\u001b[0m     \u001b[38;5;28;01mif\u001b[39;00m X_train_scaled\u001b[38;5;241m.\u001b[39msize \u001b[38;5;241m==\u001b[39m \u001b[38;5;241m0\u001b[39m:\n\u001b[1;32m     14\u001b[0m         \u001b[38;5;28mprint\u001b[39m(\u001b[38;5;124m\"\u001b[39m\u001b[38;5;124mNo training data loaded. Exiting.\u001b[39m\u001b[38;5;124m\"\u001b[39m)\n",
      "\u001b[0;31mNameError\u001b[0m: name 'load_data' is not defined"
     ]
    }
   ],
   "source": [
    "if __name__ == \"__main__\":\n",
    "    # Load data\n",
    "    (\n",
    "        X_train_scaled,\n",
    "        y_train,\n",
    "        X_val_scaled,\n",
    "        y_val,\n",
    "        X_test_scaled,\n",
    "        y_test,\n",
    "        grid_id_to_idx,\n",
    "    ) = load_data(AI_READY_DATA_DIR)\n",
    "\n",
    "    if X_train_scaled.size == 0:\n",
    "        print(\"No training data loaded. Exiting.\")\n",
    "        exit()\n",
    "\n",
    "    # Determine model parameters\n",
    "    sequence_len = X_train_scaled.shape[1]\n",
    "    num_feat = X_train_scaled.shape[2]\n",
    "    num_classes_output = len(grid_id_to_idx)\n",
    "\n",
    "    print(\n",
    "        f\"Sequence Length: {sequence_len}, Number of Features: {num_feat}, Number of Classes: {num_classes_output}\"\n",
    "    )\n",
    "\n",
    "    # Build the model\n",
    "    lstm_model = build_model(sequence_len, num_feat, num_classes_output)\n",
    "\n",
    "    # Train the model\n",
    "    training_history = train_model(\n",
    "        lstm_model, X_train_scaled, y_train, X_val_scaled, y_val\n",
    "    )\n",
    "\n",
    "    # Plot training history\n",
    "    plot_history(training_history)\n",
    "\n",
    "    # Load the best model saved by ModelCheckpoint for evaluation and ONNX conversion\n",
    "    print(\n",
    "        f\"Loading best saved Keras model from {MODEL_SAVE_PATH} for final evaluation and ONNX export...\"\n",
    "    )\n",
    "    try:\n",
    "        best_model = tf.keras.models.load_model(MODEL_SAVE_PATH)\n",
    "    except Exception as e:\n",
    "        print(f\"Error loading the saved Keras model: {e}\")\n",
    "        print(\n",
    "            \"Proceeding with the model from memory if available, but ONNX export might fail or use last state.\"\n",
    "        )\n",
    "        best_model = lstm_model  # Fallback to model in memory\n",
    "\n",
    "    # Evaluate the best model\n",
    "    if X_test_scaled.size > 0 and y_test.size > 0:\n",
    "        evaluate_model(best_model, X_test_scaled, y_test, num_classes_output)\n",
    "    else:\n",
    "        print(\"Skipping evaluation on test set as it's empty.\")\n",
    "\n",
    "    # Save in ONNX format (optional)\n",
    "    save_model_onnx(MODEL_SAVE_PATH, ONNX_MODEL_SAVE_PATH, sequence_len, num_feat)\n",
    "\n",
    "    print(\"LSTM Model Script Execution Finished.\")"
   ]
  }
 ],
 "metadata": {
  "kernelspec": {
   "display_name": "Python 3 (ipykernel)",
   "language": "python",
   "name": "python3"
  },
  "language_info": {
   "codemirror_mode": {
    "name": "ipython",
    "version": 3
   },
   "file_extension": ".py",
   "mimetype": "text/x-python",
   "name": "python",
   "nbconvert_exporter": "python",
   "pygments_lexer": "ipython3",
   "version": "3.10.17"
  }
 },
 "nbformat": 4,
 "nbformat_minor": 5
}
